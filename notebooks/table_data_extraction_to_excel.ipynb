{
 "cells": [
  {
   "cell_type": "markdown",
   "id": "fd65e361",
   "metadata": {},
   "source": [
    "# Table data extraction to excel\n",
    "\n",
    "This example uses Textractor to convert an image to an Microsoft Office Excel file that can be further processed manually.\n",
    "\n",
    "## Installation\n",
    "\n",
    "To begin, install the `amazon-textract-textractor` package using pip.\n",
    "\n",
    "`pip install amazon-textract-textractor`\n",
    "\n",
    "There are various sets of dependencies available to tailor your installation to your use case. The base package will have sensible default, but you may want to install the PDF extra dependencies if you workflow uses PDFs with `pip install amazon-textract-textractor[pdf]`. You can read more on extra dependencies [in the documentation](https://aws-samples.github.io/amazon-textract-textractor/installation.html)\n",
    "\n",
    "## Calling Textract"
   ]
  },
  {
   "cell_type": "code",
   "execution_count": null,
   "id": "4145473e",
   "metadata": {},
   "outputs": [],
   "source": [
    "import os\n",
    "from PIL import Image\n",
    "from textractor import Textractor\n",
    "from textractor.visualizers.entitylist import EntityList\n",
    "from textractor.data.constants import TextractFeatures, Direction, DirectionalFinderType"
   ]
  },
  {
   "cell_type": "code",
   "execution_count": null,
   "id": "098d499b",
   "metadata": {},
   "outputs": [],
   "source": [
    "image = Image.open(\"../../../tests/fixtures/amzn_q2.png\")\n",
    "image"
   ]
  },
  {
   "cell_type": "code",
   "execution_count": 3,
   "id": "6b38e2b6",
   "metadata": {},
   "outputs": [],
   "source": [
    "extractor = Textractor(aws_profile_name='default')\n",
    "\n",
    "document = extractor.analyze_document(\n",
    "    file_source=image,\n",
    "    features=[TextractFeatures.TABLES], \n",
    "    save_image=True\n",
    ")"
   ]
  },
  {
   "cell_type": "code",
   "execution_count": 4,
   "id": "7c4c60ec",
   "metadata": {},
   "outputs": [
    {
     "data": {
      "text/plain": [
       "This document holds the following data:\n",
       "Pages - 1\n",
       "Words - 564\n",
       "Lines - 318\n",
       "Key-values - 0\n",
       "Checkboxes - 0\n",
       "Tables - 1\n",
       "Identity Documents - 0"
      ]
     },
     "execution_count": 4,
     "metadata": {},
     "output_type": "execute_result"
    }
   ],
   "source": [
    "document"
   ]
  },
  {
   "cell_type": "markdown",
   "id": "4db93d76",
   "metadata": {},
   "source": [
    "As expected, Textract Identified the table, let's see how it looks."
   ]
  },
  {
   "cell_type": "code",
   "execution_count": 6,
   "id": "81066733",
   "metadata": {},
   "outputs": [
    {
     "ename": "AttributeError",
     "evalue": "'Table' object has no attribute 'to_pandas'",
     "output_type": "error",
     "traceback": [
      "\u001b[0;31m---------------------------------------------------------------------------\u001b[0m",
      "\u001b[0;31mAttributeError\u001b[0m                            Traceback (most recent call last)",
      "\u001b[0;32m/tmp/ipykernel_7465/3775095799.py\u001b[0m in \u001b[0;36m<module>\u001b[0;34m\u001b[0m\n\u001b[0;32m----> 1\u001b[0;31m \u001b[0mdocument\u001b[0m\u001b[0;34m.\u001b[0m\u001b[0mtables\u001b[0m\u001b[0;34m[\u001b[0m\u001b[0;36m0\u001b[0m\u001b[0;34m]\u001b[0m\u001b[0;34m.\u001b[0m\u001b[0mto_pandas\u001b[0m\u001b[0;34m(\u001b[0m\u001b[0;34m)\u001b[0m\u001b[0;34m\u001b[0m\u001b[0;34m\u001b[0m\u001b[0m\n\u001b[0m",
      "\u001b[0;31mAttributeError\u001b[0m: 'Table' object has no attribute 'to_pandas'"
     ]
    }
   ],
   "source": [
    "document.tables[0].to_pandas()"
   ]
  },
  {
   "cell_type": "code",
   "execution_count": null,
   "id": "6d7a4dbb",
   "metadata": {},
   "outputs": [],
   "source": []
  }
 ],
 "metadata": {
  "kernelspec": {
   "display_name": "Python 3",
   "language": "python",
   "name": "python3"
  },
  "language_info": {
   "codemirror_mode": {
    "name": "ipython",
    "version": 3
   },
   "file_extension": ".py",
   "mimetype": "text/x-python",
   "name": "python",
   "nbconvert_exporter": "python",
   "pygments_lexer": "ipython3",
   "version": "3.7.10"
  }
 },
 "nbformat": 4,
 "nbformat_minor": 5
}
